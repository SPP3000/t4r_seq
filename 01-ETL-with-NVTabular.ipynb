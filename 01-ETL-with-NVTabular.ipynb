{
 "cells": [
  {
   "cell_type": "code",
   "execution_count": 1,
   "id": "initial_id",
   "metadata": {
    "collapsed": true,
    "ExecuteTime": {
     "end_time": "2023-09-20T16:47:11.638597269Z",
     "start_time": "2023-09-20T16:47:07.645129298Z"
    }
   },
   "outputs": [
    {
     "name": "stderr",
     "output_type": "stream",
     "text": [
      "2023-09-20 18:47:09.608251: I tensorflow/core/platform/cpu_feature_guard.cc:182] This TensorFlow binary is optimized to use available CPU instructions in performance-critical operations.\n",
      "To enable the following instructions: AVX2 FMA, in other operations, rebuild TensorFlow with the appropriate compiler flags.\n",
      "2023-09-20 18:47:10.146677: W tensorflow/compiler/tf2tensorrt/utils/py_utils.cc:38] TF-TRT Warning: Could not find TensorRT\n",
      "/home/threadripper/virtuals/transformers4rec_venv/lib/python3.10/site-packages/merlin/dtypes/mappings/triton.py:53: UserWarning: Triton dtype mappings did not load successfully due to an error: No module named 'tritonclient'\n",
      "  warn(f\"Triton dtype mappings did not load successfully due to an error: {exc.msg}\")\n"
     ]
    }
   ],
   "source": [
    "import os\n",
    "import gc\n",
    "import cupy\n",
    "import cudf\n",
    "import nvtabular as nvt\n",
    "from merlin.dag import ColumnSelector\n",
    "from merlin.schema import Tags"
   ]
  },
  {
   "cell_type": "code",
   "execution_count": 2,
   "outputs": [],
   "source": [
    "from numba import config\n",
    "config.CUDA_LOW_OCCUPANCY_WARNINGS = 0"
   ],
   "metadata": {
    "collapsed": false,
    "ExecuteTime": {
     "end_time": "2023-09-20T16:47:14.117348060Z",
     "start_time": "2023-09-20T16:47:14.106454853Z"
    }
   },
   "id": "7070f189261076a8"
  },
  {
   "cell_type": "code",
   "execution_count": 3,
   "outputs": [],
   "source": [
    "DATA_FOLDER = os.environ.get(\"DATA_FOLDER\", \"./dataset\")\n",
    "FILENAME_PATTERN = 'yoochoose-clicks.dat'\n",
    "DATA_PATH = os.path.join(DATA_FOLDER, FILENAME_PATTERN)\n",
    "\n",
    "OUTPUT_FOLDER = \"./yoochoose_transformed\"\n",
    "OVERWRITE = False"
   ],
   "metadata": {
    "collapsed": false,
    "ExecuteTime": {
     "end_time": "2023-09-20T16:47:14.409659055Z",
     "start_time": "2023-09-20T16:47:14.400079344Z"
    }
   },
   "id": "9e80d13257d81d01"
  },
  {
   "cell_type": "code",
   "execution_count": 4,
   "outputs": [],
   "source": [
    "interactions_df = cudf.read_csv(DATA_PATH, sep=',', \n",
    "                                names=['session_id','timestamp', 'item_id'], \n",
    "                                dtype=['int', 'datetime64[s]', 'int'])"
   ],
   "metadata": {
    "collapsed": false,
    "ExecuteTime": {
     "end_time": "2023-09-20T16:47:16.586871849Z",
     "start_time": "2023-09-20T16:47:14.581521115Z"
    }
   },
   "id": "e5f0342f9f865307"
  },
  {
   "cell_type": "code",
   "execution_count": 5,
   "outputs": [
    {
     "name": "stdout",
     "output_type": "stream",
     "text": [
      "Count with in-session repeated interactions: 33003944\n",
      "Count after removed in-session repeated interactions: 28971543\n"
     ]
    }
   ],
   "source": [
    "print(\"Count with in-session repeated interactions: {}\".format(len(interactions_df)))\n",
    "\n",
    "# Sorts the dataframe by session and timestamp, to remove consecutive repetitions\n",
    "interactions_df.timestamp = interactions_df.timestamp.astype(int)\n",
    "interactions_df = interactions_df.sort_values(['session_id', 'timestamp'])\n",
    "past_ids = interactions_df['item_id'].shift(1).fillna()\n",
    "session_past_ids = interactions_df['session_id'].shift(1).fillna()\n",
    "\n",
    "# Keeping only no consecutive repeated in session interactions\n",
    "interactions_df = interactions_df[~((interactions_df['session_id'] == session_past_ids) & (interactions_df['item_id'] == past_ids))]\n",
    "\n",
    "print(\"Count after removed in-session repeated interactions: {}\".format(len(interactions_df)))"
   ],
   "metadata": {
    "collapsed": false,
    "ExecuteTime": {
     "end_time": "2023-09-20T16:47:16.835019163Z",
     "start_time": "2023-09-20T16:47:16.587633176Z"
    }
   },
   "id": "4ecd14f471ce5171"
  },
  {
   "cell_type": "code",
   "execution_count": 6,
   "outputs": [
    {
     "name": "stdout",
     "output_type": "stream",
     "text": [
      "   session_id   timestamp    item_id  itemid_ts_first\n",
      "0        3456  1396794685  214706437       1396358113\n",
      "1        3456  1396794755  214684715       1396339706\n",
      "2        3456  1396794800  214711438       1396340076\n",
      "3        3456  1396794841  214717507       1396328724\n",
      "4        3456  1396794884  214695195       1396339742\n"
     ]
    }
   ],
   "source": [
    "items_first_ts_df = interactions_df.groupby('item_id').agg({'timestamp': 'min'}).reset_index().rename(columns={'timestamp': 'itemid_ts_first'})\n",
    "interactions_merged_df = interactions_df.merge(items_first_ts_df, on=['item_id'], how='left')\n",
    "print(interactions_merged_df.head())"
   ],
   "metadata": {
    "collapsed": false,
    "ExecuteTime": {
     "end_time": "2023-09-20T16:47:16.854393464Z",
     "start_time": "2023-09-20T16:47:16.824722717Z"
    }
   },
   "id": "a07ce612b692549e"
  },
  {
   "cell_type": "code",
   "execution_count": 7,
   "outputs": [],
   "source": [
    "if os.path.isdir(OUTPUT_FOLDER) == False:\n",
    "    os.mkdir(OUTPUT_FOLDER)\n",
    "interactions_merged_df.to_parquet(os.path.join(DATA_FOLDER, 'interactions_merged_df.parquet'))"
   ],
   "metadata": {
    "collapsed": false,
    "ExecuteTime": {
     "end_time": "2023-09-20T16:47:18.198239407Z",
     "start_time": "2023-09-20T16:47:16.855018125Z"
    }
   },
   "id": "651f1e57e889d4ef"
  },
  {
   "cell_type": "code",
   "execution_count": 8,
   "outputs": [
    {
     "name": "stdout",
     "output_type": "stream",
     "text": [
      "52739\n"
     ]
    }
   ],
   "source": [
    "# print the total number of unique items in the dataset\n",
    "print(interactions_merged_df.item_id.nunique())"
   ],
   "metadata": {
    "collapsed": false,
    "ExecuteTime": {
     "end_time": "2023-09-20T16:47:18.212826490Z",
     "start_time": "2023-09-20T16:47:18.198655827Z"
    }
   },
   "id": "7bbc7b7683d87c9"
  },
  {
   "cell_type": "code",
   "execution_count": 9,
   "outputs": [
    {
     "data": {
      "text/plain": "204"
     },
     "execution_count": 9,
     "metadata": {},
     "output_type": "execute_result"
    }
   ],
   "source": [
    "# free gpu memory\n",
    "del interactions_df, session_past_ids, items_first_ts_df\n",
    "gc.collect()"
   ],
   "metadata": {
    "collapsed": false,
    "ExecuteTime": {
     "end_time": "2023-09-20T16:47:18.401166214Z",
     "start_time": "2023-09-20T16:47:18.216042157Z"
    }
   },
   "id": "8bd6946e275654e9"
  },
  {
   "cell_type": "code",
   "execution_count": 10,
   "outputs": [],
   "source": [
    "# Define Groupby Operator\n",
    "groupby_features = ColumnSelector(['session_id', 'timestamp', \"item_id\"]) >> nvt.ops.Groupby(\n",
    "    groupby_cols=[\"session_id\"], \n",
    "    sort_cols=[\"timestamp\"],\n",
    "    aggs={'item_id': [\"list\", \"count\"]},\n",
    "    name_sep=\"-\")\n",
    "\n",
    "# Truncate sequence features to first interacted 20 items \n",
    "SESSIONS_MAX_LENGTH = 20 \n",
    "\n",
    "item_feat = groupby_features['item_id-list'] >> nvt.ops.Categorify(out_path=OUTPUT_FOLDER) >> nvt.ops.TagAsItemID() >> nvt.ops.ListSlice(-SESSIONS_MAX_LENGTH)\n",
    "\n",
    "# tag session_id column for serving with legacy api\n",
    "sess_id = groupby_features['session_id'] >> nvt.ops.AddMetadata(tags=[Tags.CATEGORICAL])\n",
    "\n",
    "# Select features for training \n",
    "selected_features = sess_id + groupby_features['item_id-count'] + item_feat\n",
    "\n",
    "# Filter out sessions with less than 2 interactions \n",
    "MINIMUM_SESSION_LENGTH = 2\n",
    "filtered_sessions = selected_features >> nvt.ops.Filter(f=lambda df: df[\"item_id-count\"] >= MINIMUM_SESSION_LENGTH)"
   ],
   "metadata": {
    "collapsed": false,
    "ExecuteTime": {
     "end_time": "2023-09-20T16:47:18.440903208Z",
     "start_time": "2023-09-20T16:47:18.440582182Z"
    }
   },
   "id": "444f607f5fb19c72"
  },
  {
   "cell_type": "code",
   "execution_count": 11,
   "outputs": [],
   "source": [
    "dataset = nvt.Dataset(interactions_merged_df)\n",
    "workflow = nvt.Workflow(filtered_sessions['session_id', 'item_id-list'])\n",
    "workflow.fit_transform(dataset).to_parquet(os.path.join(OUTPUT_FOLDER, \"processed_nvt\"))\n",
    "workflow.save(os.path.join(OUTPUT_FOLDER, \"workflow_etl\"))"
   ],
   "metadata": {
    "collapsed": false,
    "ExecuteTime": {
     "end_time": "2023-09-20T16:47:20.053327376Z",
     "start_time": "2023-09-20T16:47:18.440768272Z"
    }
   },
   "id": "d36f9046fda43d0c"
  },
  {
   "cell_type": "code",
   "execution_count": 12,
   "outputs": [
    {
     "data": {
      "text/plain": "    session_id                                       item_id-list\n28          48                          [11549, 6358, 7549, 2106]\n46          77                             [658, 836, 2771, 1283]\n51          86  [18401, 16041, 15462, 10767, 9360, 10118, 2263...\n68         111                                        [906, 1892]\n95         154                              [496, 1204, 1412, 91]",
      "text/html": "<div>\n<style scoped>\n    .dataframe tbody tr th:only-of-type {\n        vertical-align: middle;\n    }\n\n    .dataframe tbody tr th {\n        vertical-align: top;\n    }\n\n    .dataframe thead th {\n        text-align: right;\n    }\n</style>\n<table border=\"1\" class=\"dataframe\">\n  <thead>\n    <tr style=\"text-align: right;\">\n      <th></th>\n      <th>session_id</th>\n      <th>item_id-list</th>\n    </tr>\n  </thead>\n  <tbody>\n    <tr>\n      <th>28</th>\n      <td>48</td>\n      <td>[11549, 6358, 7549, 2106]</td>\n    </tr>\n    <tr>\n      <th>46</th>\n      <td>77</td>\n      <td>[658, 836, 2771, 1283]</td>\n    </tr>\n    <tr>\n      <th>51</th>\n      <td>86</td>\n      <td>[18401, 16041, 15462, 10767, 9360, 10118, 2263...</td>\n    </tr>\n    <tr>\n      <th>68</th>\n      <td>111</td>\n      <td>[906, 1892]</td>\n    </tr>\n    <tr>\n      <th>95</th>\n      <td>154</td>\n      <td>[496, 1204, 1412, 91]</td>\n    </tr>\n  </tbody>\n</table>\n</div>"
     },
     "execution_count": 12,
     "metadata": {},
     "output_type": "execute_result"
    }
   ],
   "source": [
    "SPLIT_DIR = os.path.join(OUTPUT_FOLDER, \"split\")\n",
    "os.makedirs(SPLIT_DIR, exist_ok=True)\n",
    "\n",
    "val_size = 0.1\n",
    "train_size = 1.0 - val_size\n",
    "sessions_gdf = cudf.read_parquet(os.path.join(OUTPUT_FOLDER, \"processed_nvt\", \"part_0.parquet\"))\n",
    "random_values = cupy.random.rand(len(sessions_gdf))\n",
    "\n",
    "train_set = sessions_gdf[random_values <= train_size]\n",
    "train_set.to_parquet(os.path.join(SPLIT_DIR, \"train.parquet\"))\n",
    "\n",
    "valid_set = sessions_gdf[random_values > train_size]\n",
    "valid_set.to_parquet(os.path.join(SPLIT_DIR, \"valid.parquet\"))\n",
    "valid_set.head()"
   ],
   "metadata": {
    "collapsed": false,
    "ExecuteTime": {
     "end_time": "2023-09-20T16:47:20.417476257Z",
     "start_time": "2023-09-20T16:47:20.055966165Z"
    }
   },
   "id": "c617bd8b6374dd2c"
  },
  {
   "cell_type": "code",
   "execution_count": 13,
   "outputs": [
    {
     "data": {
      "text/plain": "    session_id                                       item_id-list  target\n28          48                                [11549, 6358, 7549]    2106\n46          77                                   [658, 836, 2771]    1283\n51          86  [18401, 16041, 15462, 10767, 9360, 10118, 2263...     797\n68         111                                              [906]    1892\n95         154                                  [496, 1204, 1412]      91",
      "text/html": "<div>\n<style scoped>\n    .dataframe tbody tr th:only-of-type {\n        vertical-align: middle;\n    }\n\n    .dataframe tbody tr th {\n        vertical-align: top;\n    }\n\n    .dataframe thead th {\n        text-align: right;\n    }\n</style>\n<table border=\"1\" class=\"dataframe\">\n  <thead>\n    <tr style=\"text-align: right;\">\n      <th></th>\n      <th>session_id</th>\n      <th>item_id-list</th>\n      <th>target</th>\n    </tr>\n  </thead>\n  <tbody>\n    <tr>\n      <th>28</th>\n      <td>48</td>\n      <td>[11549, 6358, 7549]</td>\n      <td>2106</td>\n    </tr>\n    <tr>\n      <th>46</th>\n      <td>77</td>\n      <td>[658, 836, 2771]</td>\n      <td>1283</td>\n    </tr>\n    <tr>\n      <th>51</th>\n      <td>86</td>\n      <td>[18401, 16041, 15462, 10767, 9360, 10118, 2263...</td>\n      <td>797</td>\n    </tr>\n    <tr>\n      <th>68</th>\n      <td>111</td>\n      <td>[906]</td>\n      <td>1892</td>\n    </tr>\n    <tr>\n      <th>95</th>\n      <td>154</td>\n      <td>[496, 1204, 1412]</td>\n      <td>91</td>\n    </tr>\n  </tbody>\n</table>\n</div>"
     },
     "execution_count": 13,
     "metadata": {},
     "output_type": "execute_result"
    }
   ],
   "source": [
    "test_set = valid_set.to_pandas()\n",
    "test_set['target'] = test_set['item_id-list'].apply(lambda arr: arr[-1])\n",
    "test_set['item_id-list'] = test_set['item_id-list'].apply(lambda arr: arr[:-1])\n",
    "test_set.to_parquet(os.path.join(SPLIT_DIR, \"test.parquet\"))\n",
    "test_set.head()"
   ],
   "metadata": {
    "collapsed": false,
    "ExecuteTime": {
     "end_time": "2023-09-20T16:47:22.738308880Z",
     "start_time": "2023-09-20T16:47:20.413742275Z"
    }
   },
   "id": "faae5ef365af888f"
  }
 ],
 "metadata": {
  "kernelspec": {
   "display_name": "Python 3",
   "language": "python",
   "name": "python3"
  },
  "language_info": {
   "codemirror_mode": {
    "name": "ipython",
    "version": 2
   },
   "file_extension": ".py",
   "mimetype": "text/x-python",
   "name": "python",
   "nbconvert_exporter": "python",
   "pygments_lexer": "ipython2",
   "version": "2.7.6"
  }
 },
 "nbformat": 4,
 "nbformat_minor": 5
}
