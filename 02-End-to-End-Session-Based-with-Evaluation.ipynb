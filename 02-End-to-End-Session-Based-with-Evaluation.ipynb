{
 "cells": [
  {
   "cell_type": "code",
   "execution_count": 1,
   "id": "initial_id",
   "metadata": {
    "ExecuteTime": {
     "start_time": "2023-09-20T16:47:35.328768820Z"
    },
    "is_executing": true
   },
   "outputs": [
    {
     "name": "stderr",
     "output_type": "stream",
     "text": [
      "2023-09-20 18:47:50.908357: I tensorflow/core/platform/cpu_feature_guard.cc:182] This TensorFlow binary is optimized to use available CPU instructions in performance-critical operations.\n",
      "To enable the following instructions: AVX2 FMA, in other operations, rebuild TensorFlow with the appropriate compiler flags.\n",
      "2023-09-20 18:47:51.449615: W tensorflow/compiler/tf2tensorrt/utils/py_utils.cc:38] TF-TRT Warning: Could not find TensorRT\n",
      "/home/threadripper/virtuals/transformers4rec_venv/lib/python3.10/site-packages/merlin/dtypes/mappings/triton.py:53: UserWarning: Triton dtype mappings did not load successfully due to an error: No module named 'tritonclient'\n",
      "  warn(f\"Triton dtype mappings did not load successfully due to an error: {exc.msg}\")\n"
     ]
    }
   ],
   "source": [
    "import os\n",
    "import numpy as np\n",
    "import pandas as pd\n",
    "import nvtabular as nvt\n",
    "from transformers4rec import torch as tr\n",
    "from transformers4rec.torch.ranking_metric import NDCGAt, MeanReciprocalRankAt, AvgPrecisionAt\n",
    "\n",
    "os.environ[\"CUDA_VISIBLE_DEVICES\"]=\"0\"\n",
    "DATA_DIR = os.environ.get(\"DATA_DIR\", \"./yoochoose_transformed\")\n",
    "TRAIN_DIR = os.environ.get(\"TRAIN_DIR\", f\"./train_data\")"
   ]
  },
  {
   "cell_type": "code",
   "execution_count": 2,
   "id": "c70a2b484417f53c",
   "metadata": {
    "collapsed": false
   },
   "outputs": [
    {
     "data": {
      "text/html": [
       "<div>\n",
       "<style scoped>\n",
       "    .dataframe tbody tr th:only-of-type {\n",
       "        vertical-align: middle;\n",
       "    }\n",
       "\n",
       "    .dataframe tbody tr th {\n",
       "        vertical-align: top;\n",
       "    }\n",
       "\n",
       "    .dataframe thead th {\n",
       "        text-align: right;\n",
       "    }\n",
       "</style>\n",
       "<table border=\"1\" class=\"dataframe\">\n",
       "  <thead>\n",
       "    <tr style=\"text-align: right;\">\n",
       "      <th></th>\n",
       "      <th>name</th>\n",
       "      <th>tags</th>\n",
       "      <th>dtype</th>\n",
       "      <th>is_list</th>\n",
       "      <th>is_ragged</th>\n",
       "      <th>properties.cat_path</th>\n",
       "      <th>properties.embedding_sizes.dimension</th>\n",
       "      <th>properties.embedding_sizes.cardinality</th>\n",
       "      <th>properties.freq_threshold</th>\n",
       "      <th>properties.max_size</th>\n",
       "      <th>properties.num_buckets</th>\n",
       "      <th>properties.domain.min</th>\n",
       "      <th>properties.domain.max</th>\n",
       "      <th>properties.domain.name</th>\n",
       "      <th>properties.value_count.min</th>\n",
       "      <th>properties.value_count.max</th>\n",
       "    </tr>\n",
       "  </thead>\n",
       "  <tbody>\n",
       "    <tr>\n",
       "      <th>0</th>\n",
       "      <td>item_id-list</td>\n",
       "      <td>(Tags.ITEM, Tags.CATEGORICAL, Tags.LIST, Tags.ID)</td>\n",
       "      <td>DType(name='int64', element_type=&lt;ElementType....</td>\n",
       "      <td>True</td>\n",
       "      <td>True</td>\n",
       "      <td>../yoochoose_transformed/categories/unique.ite...</td>\n",
       "      <td>512.0</td>\n",
       "      <td>52742.0</td>\n",
       "      <td>0.0</td>\n",
       "      <td>0.0</td>\n",
       "      <td>None</td>\n",
       "      <td>0</td>\n",
       "      <td>52741</td>\n",
       "      <td>item_id-list</td>\n",
       "      <td>0</td>\n",
       "      <td>20</td>\n",
       "    </tr>\n",
       "  </tbody>\n",
       "</table>\n",
       "</div>"
      ],
      "text/plain": [
       "[{'name': 'item_id-list', 'tags': {<Tags.ITEM: 'item'>, <Tags.CATEGORICAL: 'categorical'>, <Tags.LIST: 'list'>, <Tags.ID: 'id'>}, 'properties': {'cat_path': '../yoochoose_transformed/categories/unique.item_id-list.parquet', 'embedding_sizes': {'dimension': 512.0, 'cardinality': 52742.0}, 'freq_threshold': 0.0, 'max_size': 0.0, 'num_buckets': None, 'domain': {'min': 0, 'max': 52741, 'name': 'item_id-list'}, 'value_count': {'min': 0, 'max': 20}}, 'dtype': DType(name='int64', element_type=<ElementType.Int: 'int'>, element_size=64, element_unit=None, signed=True, shape=Shape(dims=(Dimension(min=0, max=None), Dimension(min=0, max=20)))), 'is_list': True, 'is_ragged': True}]"
      ]
     },
     "execution_count": 2,
     "metadata": {},
     "output_type": "execute_result"
    }
   ],
   "source": [
    "train = nvt.Dataset(os.path.join(DATA_DIR, \"processed_nvt\", \"part_0.parquet\"))\n",
    "schema = train.schema.select_by_name(['item_id-list'])\n",
    "schema"
   ]
  },
  {
   "cell_type": "code",
   "execution_count": 3,
   "id": "eca4c337b44f08d4",
   "metadata": {
    "collapsed": false
   },
   "outputs": [],
   "source": [
    "max_sequence_length, d_model = 20, 128\n",
    "# Define input module to process tabular input-features and to prepare masked inputs\n",
    "input_module = tr.TabularSequenceFeatures.from_schema(\n",
    "    schema,\n",
    "    embedding_dim_default=128,\n",
    "    max_sequence_length=max_sequence_length,\n",
    "    d_output=d_model,\n",
    "    masking=\"clm\",\n",
    ")\n",
    "\n",
    "metrics = [\n",
    "    NDCGAt(top_ks=[100], labels_onehot=True),\n",
    "    MeanReciprocalRankAt(top_ks=[100], labels_onehot=True),\n",
    "    AvgPrecisionAt(top_ks=[100], labels_onehot=True)\n",
    "]\n",
    "\n",
    "# Define Next item prediction-task \n",
    "prediction_task = tr.NextItemPredictionTask(weight_tying=True, metrics=metrics)\n",
    "\n",
    "# Define the config of the XLNet Transformer architecture\n",
    "transformer_config = tr.XLNetConfig.build(\n",
    "    d_model=d_model, n_head=8, n_layer=2, total_seq_length=max_sequence_length\n",
    ")\n",
    "model = transformer_config.to_torch_model(input_module, prediction_task)"
   ]
  },
  {
   "cell_type": "code",
   "execution_count": 4,
   "id": "7e7b9feb687e6816",
   "metadata": {
    "collapsed": false
   },
   "outputs": [],
   "source": [
    "training_args = tr.trainer.T4RecTrainingArguments(\n",
    "            output_dir=TRAIN_DIR,\n",
    "            max_sequence_length=max_sequence_length,\n",
    "            data_loader_engine='nvtabular',\n",
    "            num_train_epochs=1, \n",
    "            dataloader_drop_last=False,\n",
    "            per_device_train_batch_size = 1024,\n",
    "            per_device_eval_batch_size = 1024,\n",
    "            learning_rate=0.0005,\n",
    "            fp16=True,\n",
    "            report_to = [],\n",
    "            logging_steps=500\n",
    "        )"
   ]
  },
  {
   "cell_type": "code",
   "execution_count": 5,
   "id": "7e2969de6a9906ee",
   "metadata": {
    "collapsed": false
   },
   "outputs": [],
   "source": [
    "trainer = tr.Trainer(\n",
    "    model=model,\n",
    "    args=training_args,\n",
    "    schema=schema,\n",
    "    train_dataset_or_path=os.path.join(DATA_DIR, \"split\", \"train.parquet\"),\n",
    "    eval_dataset_or_path=os.path.join(DATA_DIR, \"split\", \"valid.parquet\"),\n",
    "    compute_metrics=True)"
   ]
  },
  {
   "cell_type": "code",
   "execution_count": 6,
   "id": "82c901dc8712fce",
   "metadata": {
    "collapsed": false
   },
   "outputs": [
    {
     "data": {
      "text/html": [
       "\n",
       "    <div>\n",
       "      \n",
       "      <progress value='5939' max='5939' style='width:300px; height:20px; vertical-align: middle;'></progress>\n",
       "      [5939/5939 03:54, Epoch 1/1]\n",
       "    </div>\n",
       "    <table border=\"1\" class=\"dataframe\">\n",
       "  <thead>\n",
       " <tr style=\"text-align: left;\">\n",
       "      <th>Step</th>\n",
       "      <th>Training Loss</th>\n",
       "    </tr>\n",
       "  </thead>\n",
       "  <tbody>\n",
       "    <tr>\n",
       "      <td>500</td>\n",
       "      <td>7.409300</td>\n",
       "    </tr>\n",
       "    <tr>\n",
       "      <td>1000</td>\n",
       "      <td>4.645600</td>\n",
       "    </tr>\n",
       "    <tr>\n",
       "      <td>1500</td>\n",
       "      <td>3.860500</td>\n",
       "    </tr>\n",
       "    <tr>\n",
       "      <td>2000</td>\n",
       "      <td>3.400600</td>\n",
       "    </tr>\n",
       "    <tr>\n",
       "      <td>2500</td>\n",
       "      <td>3.269800</td>\n",
       "    </tr>\n",
       "    <tr>\n",
       "      <td>3000</td>\n",
       "      <td>3.138600</td>\n",
       "    </tr>\n",
       "    <tr>\n",
       "      <td>3500</td>\n",
       "      <td>3.261200</td>\n",
       "    </tr>\n",
       "    <tr>\n",
       "      <td>4000</td>\n",
       "      <td>3.172600</td>\n",
       "    </tr>\n",
       "    <tr>\n",
       "      <td>4500</td>\n",
       "      <td>2.998300</td>\n",
       "    </tr>\n",
       "    <tr>\n",
       "      <td>5000</td>\n",
       "      <td>3.154500</td>\n",
       "    </tr>\n",
       "    <tr>\n",
       "      <td>5500</td>\n",
       "      <td>3.450800</td>\n",
       "    </tr>\n",
       "  </tbody>\n",
       "</table><p>"
      ],
      "text/plain": [
       "<IPython.core.display.HTML object>"
      ]
     },
     "metadata": {},
     "output_type": "display_data"
    },
    {
     "data": {
      "text/plain": [
       "TrainOutput(global_step=5939, training_loss=3.7613273809445507, metrics={'train_runtime': 235.3818, 'train_samples_per_second': 25836.897, 'train_steps_per_second': 25.231, 'total_flos': 0.0, 'train_loss': 3.7613273809445507})"
      ]
     },
     "execution_count": 6,
     "metadata": {},
     "output_type": "execute_result"
    }
   ],
   "source": [
    "trainer.train()"
   ]
  },
  {
   "cell_type": "code",
   "execution_count": 7,
   "id": "e073ac6628d73526",
   "metadata": {
    "collapsed": false
   },
   "outputs": [
    {
     "data": {
      "text/html": [],
      "text/plain": [
       "<IPython.core.display.HTML object>"
      ]
     },
     "metadata": {},
     "output_type": "display_data"
    },
    {
     "data": {
      "text/plain": [
       "{'eval_/next-item/ndcg_at_100': 0.9645484685897827,\n",
       " 'eval_/next-item/mean_reciprocal_rank_at_100': 0.9590969681739807,\n",
       " 'eval_/next-item/avg_precision_at_100': 0.9590969681739807,\n",
       " 'eval_/loss': 0.3528675436973572,\n",
       " 'eval_runtime': 30.3942,\n",
       " 'eval_samples_per_second': 22235.806,\n",
       " 'eval_steps_per_second': 21.715}"
      ]
     },
     "execution_count": 7,
     "metadata": {},
     "output_type": "execute_result"
    }
   ],
   "source": [
    "evaluation = trainer.evaluate()\n",
    "evaluation"
   ]
  },
  {
   "cell_type": "code",
   "execution_count": 8,
   "id": "b6fca3be-bdf4-4d3b-a8e9-7b24d5a7690d",
   "metadata": {},
   "outputs": [],
   "source": [
    "test_data = nvt.Dataset(os.path.join(DATA_DIR, \"split\", \"test.parquet\"))\n",
    "predictions = trainer.predict(test_data)"
   ]
  },
  {
   "cell_type": "code",
   "execution_count": 9,
   "id": "d03a2ef0deeeea6d",
   "metadata": {
    "collapsed": false,
    "is_executing": true
   },
   "outputs": [],
   "source": [
    "test_df = pd.read_parquet(os.path.join(DATA_DIR, \"split\", \"test.parquet\"))\n",
    "targets = test_df['target']"
   ]
  },
  {
   "cell_type": "code",
   "execution_count": 10,
   "id": "463d1efe-c4a6-4013-bb94-8b88ed22b4bb",
   "metadata": {},
   "outputs": [
    {
     "name": "stdout",
     "output_type": "stream",
     "text": [
      "Real MRR: 0.20237413828082323\n"
     ]
    }
   ],
   "source": [
    "MRR = np.zeros(targets.shape, dtype=float)\n",
    "for i, (prediction, target) in enumerate(zip(predictions.predictions[0], targets)):\n",
    "    indices = np.where(prediction == target)[0]\n",
    "    if indices.size > 0:\n",
    "        MRR[i] = 1.0 / (indices[0]+1)\n",
    "print(\"Real MRR:\", np.mean(MRR))"
   ]
  }
 ],
 "metadata": {
  "kernelspec": {
   "display_name": "Python 3 (ipykernel)",
   "language": "python",
   "name": "python3"
  },
  "language_info": {
   "codemirror_mode": {
    "name": "ipython",
    "version": 3
   },
   "file_extension": ".py",
   "mimetype": "text/x-python",
   "name": "python",
   "nbconvert_exporter": "python",
   "pygments_lexer": "ipython3",
   "version": "3.10.12"
  }
 },
 "nbformat": 4,
 "nbformat_minor": 5
}
